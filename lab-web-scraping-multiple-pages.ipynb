{
 "cells": [
  {
   "cell_type": "code",
   "execution_count": 7,
   "metadata": {},
   "outputs": [],
   "source": [
    "import requests\n",
    "from bs4 import BeautifulSoup\n",
    "import pandas as pd\n",
    "\n",
    "url = 'https://radiocomercial.pt/programas/tnt-todos-no-top'\n",
    "response = requests.get(url)\n",
    "soup = BeautifulSoup(response.text, 'html.parser')\n"
   ]
  },
  {
   "cell_type": "code",
   "execution_count": 18,
   "metadata": {},
   "outputs": [],
   "source": [
    "songs=[]\n",
    "for i in range(1,21,1):\n",
    "    url=\"#page-content-wrapper > div > div:nth-child(2) > div > div > div:nth-child(\"+str(i)+\") > div.wrapper.rounded-site.tm-audio-data > div.cover.rounded-site-top.tnt-box-cover > div > div.songTitle\"\n",
    "    try:\n",
    "        songs.append(soup.select(url)[0].get_text().strip())\n",
    "    except:\n",
    "        continue"
   ]
  },
  {
   "cell_type": "code",
   "execution_count": 19,
   "metadata": {},
   "outputs": [
    {
     "data": {
      "text/plain": [
       "['Foi assim que Aconteceu',\n",
       " 'Calm Down',\n",
       " 'Made You Look',\n",
       " 'Eu Não Sou Assim',\n",
       " 'Forget Me',\n",
       " 'Snap',\n",
       " 'Love Again',\n",
       " 'Anti-Hero',\n",
       " 'Saia da Carolina',\n",
       " 'Never gonna not dance again',\n",
       " 'Thank God',\n",
       " 'Flowers',\n",
       " 'All Four You',\n",
       " 'Carretera y Manta',\n",
       " 'Outros Planos',\n",
       " \"Creepin'\",\n",
       " 'Glimpse of Us',\n",
       " 'Saída De Emergência',\n",
       " 'Celestial',\n",
       " 'Green Green Grass']"
      ]
     },
     "execution_count": 19,
     "metadata": {},
     "output_type": "execute_result"
    }
   ],
   "source": [
    "songs"
   ]
  },
  {
   "cell_type": "code",
   "execution_count": 22,
   "metadata": {},
   "outputs": [],
   "source": [
    "artists=[]\n",
    "\n",
    "for i in range(1,21,1):\n",
    "    url=\"#page-content-wrapper > div > div:nth-child(2) > div > div > div:nth-child(\"+str(i)+\") > div.wrapper.rounded-site.tm-audio-data > div.cover.rounded-site-top.tnt-box-cover > div > div.songArtist\"\n",
    "    try:\n",
    "        artists.append(soup.select(url)[0].get_text().strip())\n",
    "    except:\n",
    "        continue"
   ]
  },
  {
   "cell_type": "code",
   "execution_count": 23,
   "metadata": {},
   "outputs": [
    {
     "data": {
      "text/plain": [
       "['Marisa Liz',\n",
       " 'Rema, Selena Gomez',\n",
       " 'Meghan Trainor',\n",
       " 'GNR',\n",
       " 'Lewis Capaldi',\n",
       " 'Rosa Linn',\n",
       " 'Richie Campbell',\n",
       " 'Taylor Swift',\n",
       " 'Carolina Deslandes',\n",
       " 'Pink',\n",
       " 'Kane Brown, Katelyn Brown',\n",
       " 'Miley Cyrus',\n",
       " 'Cian Ducrot, Ella Henderson',\n",
       " 'Pablo Alborán',\n",
       " 'Rita Rocha',\n",
       " 'Metro Boomin, 21 Savage, The Weeknd',\n",
       " 'Joji',\n",
       " 'Diogo Piçarra',\n",
       " 'Ed Sheeran',\n",
       " 'George Ezra']"
      ]
     },
     "execution_count": 23,
     "metadata": {},
     "output_type": "execute_result"
    }
   ],
   "source": [
    "artists"
   ]
  },
  {
   "cell_type": "code",
   "execution_count": 24,
   "metadata": {},
   "outputs": [],
   "source": [
    "data = pd.DataFrame()"
   ]
  },
  {
   "cell_type": "code",
   "execution_count": 25,
   "metadata": {},
   "outputs": [],
   "source": [
    "data['songs'] = songs\n",
    "data['artists'] = artists"
   ]
  },
  {
   "cell_type": "code",
   "execution_count": 26,
   "metadata": {},
   "outputs": [
    {
     "data": {
      "text/html": [
       "<div>\n",
       "<style scoped>\n",
       "    .dataframe tbody tr th:only-of-type {\n",
       "        vertical-align: middle;\n",
       "    }\n",
       "\n",
       "    .dataframe tbody tr th {\n",
       "        vertical-align: top;\n",
       "    }\n",
       "\n",
       "    .dataframe thead th {\n",
       "        text-align: right;\n",
       "    }\n",
       "</style>\n",
       "<table border=\"1\" class=\"dataframe\">\n",
       "  <thead>\n",
       "    <tr style=\"text-align: right;\">\n",
       "      <th></th>\n",
       "      <th>songs</th>\n",
       "      <th>artists</th>\n",
       "    </tr>\n",
       "  </thead>\n",
       "  <tbody>\n",
       "    <tr>\n",
       "      <th>0</th>\n",
       "      <td>Foi assim que Aconteceu</td>\n",
       "      <td>Marisa Liz</td>\n",
       "    </tr>\n",
       "    <tr>\n",
       "      <th>1</th>\n",
       "      <td>Calm Down</td>\n",
       "      <td>Rema, Selena Gomez</td>\n",
       "    </tr>\n",
       "    <tr>\n",
       "      <th>2</th>\n",
       "      <td>Made You Look</td>\n",
       "      <td>Meghan Trainor</td>\n",
       "    </tr>\n",
       "    <tr>\n",
       "      <th>3</th>\n",
       "      <td>Eu Não Sou Assim</td>\n",
       "      <td>GNR</td>\n",
       "    </tr>\n",
       "    <tr>\n",
       "      <th>4</th>\n",
       "      <td>Forget Me</td>\n",
       "      <td>Lewis Capaldi</td>\n",
       "    </tr>\n",
       "    <tr>\n",
       "      <th>5</th>\n",
       "      <td>Snap</td>\n",
       "      <td>Rosa Linn</td>\n",
       "    </tr>\n",
       "    <tr>\n",
       "      <th>6</th>\n",
       "      <td>Love Again</td>\n",
       "      <td>Richie Campbell</td>\n",
       "    </tr>\n",
       "    <tr>\n",
       "      <th>7</th>\n",
       "      <td>Anti-Hero</td>\n",
       "      <td>Taylor Swift</td>\n",
       "    </tr>\n",
       "    <tr>\n",
       "      <th>8</th>\n",
       "      <td>Saia da Carolina</td>\n",
       "      <td>Carolina Deslandes</td>\n",
       "    </tr>\n",
       "    <tr>\n",
       "      <th>9</th>\n",
       "      <td>Never gonna not dance again</td>\n",
       "      <td>Pink</td>\n",
       "    </tr>\n",
       "    <tr>\n",
       "      <th>10</th>\n",
       "      <td>Thank God</td>\n",
       "      <td>Kane Brown, Katelyn Brown</td>\n",
       "    </tr>\n",
       "    <tr>\n",
       "      <th>11</th>\n",
       "      <td>Flowers</td>\n",
       "      <td>Miley Cyrus</td>\n",
       "    </tr>\n",
       "    <tr>\n",
       "      <th>12</th>\n",
       "      <td>All Four You</td>\n",
       "      <td>Cian Ducrot, Ella Henderson</td>\n",
       "    </tr>\n",
       "    <tr>\n",
       "      <th>13</th>\n",
       "      <td>Carretera y Manta</td>\n",
       "      <td>Pablo Alborán</td>\n",
       "    </tr>\n",
       "    <tr>\n",
       "      <th>14</th>\n",
       "      <td>Outros Planos</td>\n",
       "      <td>Rita Rocha</td>\n",
       "    </tr>\n",
       "    <tr>\n",
       "      <th>15</th>\n",
       "      <td>Creepin'</td>\n",
       "      <td>Metro Boomin, 21 Savage, The Weeknd</td>\n",
       "    </tr>\n",
       "    <tr>\n",
       "      <th>16</th>\n",
       "      <td>Glimpse of Us</td>\n",
       "      <td>Joji</td>\n",
       "    </tr>\n",
       "    <tr>\n",
       "      <th>17</th>\n",
       "      <td>Saída De Emergência</td>\n",
       "      <td>Diogo Piçarra</td>\n",
       "    </tr>\n",
       "    <tr>\n",
       "      <th>18</th>\n",
       "      <td>Celestial</td>\n",
       "      <td>Ed Sheeran</td>\n",
       "    </tr>\n",
       "    <tr>\n",
       "      <th>19</th>\n",
       "      <td>Green Green Grass</td>\n",
       "      <td>George Ezra</td>\n",
       "    </tr>\n",
       "  </tbody>\n",
       "</table>\n",
       "</div>"
      ],
      "text/plain": [
       "                          songs                              artists\n",
       "0       Foi assim que Aconteceu                           Marisa Liz\n",
       "1                     Calm Down                   Rema, Selena Gomez\n",
       "2                 Made You Look                       Meghan Trainor\n",
       "3              Eu Não Sou Assim                                  GNR\n",
       "4                     Forget Me                        Lewis Capaldi\n",
       "5                          Snap                            Rosa Linn\n",
       "6                    Love Again                      Richie Campbell\n",
       "7                     Anti-Hero                         Taylor Swift\n",
       "8              Saia da Carolina                   Carolina Deslandes\n",
       "9   Never gonna not dance again                                 Pink\n",
       "10                    Thank God            Kane Brown, Katelyn Brown\n",
       "11                      Flowers                          Miley Cyrus\n",
       "12                 All Four You          Cian Ducrot, Ella Henderson\n",
       "13            Carretera y Manta                        Pablo Alborán\n",
       "14                Outros Planos                           Rita Rocha\n",
       "15                     Creepin'  Metro Boomin, 21 Savage, The Weeknd\n",
       "16                Glimpse of Us                                 Joji\n",
       "17          Saída De Emergência                        Diogo Piçarra\n",
       "18                    Celestial                           Ed Sheeran\n",
       "19            Green Green Grass                          George Ezra"
      ]
     },
     "execution_count": 26,
     "metadata": {},
     "output_type": "execute_result"
    }
   ],
   "source": [
    "data"
   ]
  }
 ],
 "metadata": {
  "kernelspec": {
   "display_name": "Python 3",
   "language": "python",
   "name": "python3"
  },
  "language_info": {
   "codemirror_mode": {
    "name": "ipython",
    "version": 3
   },
   "file_extension": ".py",
   "mimetype": "text/x-python",
   "name": "python",
   "nbconvert_exporter": "python",
   "pygments_lexer": "ipython3",
   "version": "3.10.11"
  },
  "orig_nbformat": 4
 },
 "nbformat": 4,
 "nbformat_minor": 2
}
